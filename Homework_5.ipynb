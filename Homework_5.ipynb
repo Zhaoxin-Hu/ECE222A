{
  "nbformat": 4,
  "nbformat_minor": 0,
  "metadata": {
    "colab": {
      "name": "Homework 5.ipynb",
      "version": "0.3.2",
      "provenance": [],
      "include_colab_link": true
    },
    "kernelspec": {
      "name": "python3",
      "display_name": "Python 3"
    }
  },
  "cells": [
    {
      "cell_type": "markdown",
      "metadata": {
        "id": "view-in-github",
        "colab_type": "text"
      },
      "source": [
        "<a href=\"https://colab.research.google.com/github/Zhaoxin-Hu/ECE222A/blob/master/Homework_5.ipynb\" target=\"_parent\"><img src=\"https://colab.research.google.com/assets/colab-badge.svg\" alt=\"Open In Colab\"/></a>"
      ]
    },
    {
      "metadata": {
        "id": "F9Ghxwg8sHbA",
        "colab_type": "code",
        "colab": {}
      },
      "cell_type": "code",
      "source": [
        "import matplotlib\n",
        "import matplotlib.colors\n",
        "import matplotlib.pyplot as plt\n",
        "\n",
        "import numpy as np\n",
        "np.set_printoptions(suppress=True)\n",
        "\n",
        "from mpl_toolkits import mplot3d\n",
        "import mpl_toolkits.mplot3d.axes3d as axes3d\n",
        "\n",
        "from scipy import special\n",
        "from scipy import integrate\n",
        "from scipy.signal import argrelextrema"
      ],
      "execution_count": 0,
      "outputs": []
    },
    {
      "metadata": {
        "id": "59hbtiSksVce",
        "colab_type": "text"
      },
      "cell_type": "markdown",
      "source": [
        "## Problem 2"
      ]
    },
    {
      "metadata": {
        "id": "c-e9XOUusa6O",
        "colab_type": "text"
      },
      "cell_type": "markdown",
      "source": [
        "Antenna Size ($2^n \\times 2^n$)"
      ]
    },
    {
      "metadata": {
        "id": "nISHsbq2sTgY",
        "colab_type": "code",
        "outputId": "de2e6bd0-55d4-4754-fbfa-db3a84fa1906",
        "colab": {
          "base_uri": "https://localhost:8080/",
          "height": 51
        }
      },
      "cell_type": "code",
      "source": [
        "# directivity\n",
        "n = np.array([1, 2, 3, 4, 5])\n",
        "Ap = (2**n)**2\n",
        "D = 4*np.pi*Ap\n",
        "D_dB = 10*np.log10(D)\n",
        "print('D (dB): ', D_dB)\n",
        "\n",
        "# efficiency (loss)\n",
        "freq = 3e9\n",
        "c = 3e8\n",
        "n = 1\n",
        "wvlen = c/freq*1e2 # in cm\n",
        "loss_per_cm = 0.1\n",
        "loss_factor = 0\n",
        "for i in range(n):\n",
        "    loss_factor = loss_factor + 2*2**(i-1)*wvlen*loss_per_cm\n",
        "print(loss_factor)"
      ],
      "execution_count": 0,
      "outputs": [
        {
          "output_type": "stream",
          "text": [
            "D (dB):  [17.01269855 23.03329847 29.05389838 35.07449829 41.09509821]\n",
            "1.0\n"
          ],
          "name": "stdout"
        }
      ]
    },
    {
      "metadata": {
        "id": "rs0DwUXngIPp",
        "colab_type": "text"
      },
      "cell_type": "markdown",
      "source": [
        "## Problem 3"
      ]
    },
    {
      "metadata": {
        "id": "sWo-eZ54gKIn",
        "colab_type": "code",
        "colab": {}
      },
      "cell_type": "code",
      "source": [
        "er = 1\n",
        "b = 0.5/np.sqrt(er)\n",
        "a = 1.5*b\n",
        "dx = a\n",
        "dy = b\n",
        "k = 2*np.pi\n",
        "\n",
        "'''num_pts_theta = 200\n",
        "num_pts_phi = 200\n",
        "theta, phi = np.linspace(0, np.pi/2, num_pts_theta), np.linspace(0, 2*np.pi, num_pts_phi)\n",
        "theta2d, phi2d = np.meshgrid(theta, phi)\n",
        "theta2d, phi2d = np.transpose(theta2d), np.transpose(phi2d)'''"
      ],
      "execution_count": 0,
      "outputs": []
    },
    {
      "metadata": {
        "id": "1fi96Elkhw8u",
        "colab_type": "code",
        "colab": {}
      },
      "cell_type": "code",
      "source": [
        "def AF_un(theta, phi):\n",
        "    psiy = k*dy*np.sin(theta)*np.sin(phi)\n",
        "    AFy = 1 + np.exp(1j*psiy)\n",
        "    return np.abs(AFy)\n",
        "\n",
        "def EF(theta, phi):\n",
        "    psix = k*dx*np.sin(theta)*np.cos(phi)\n",
        "    return np.abs(np.sqrt(np.sin(phi)**2+(np.cos(theta)*np.cos(phi))**2)*np.sinc(psix/2))\n",
        "\n",
        "def P_un(theta, phi):\n",
        "    return (AF_un(theta, phi)*EF(theta,phi))**2\n",
        "  \n",
        "P_un_max = P_un(theta2d, phi2d).max()\n",
        "\n",
        "def P_n(theta, phi):\n",
        "    return P_un(theta, phi)/P_un_max\n",
        "\n",
        "def integrand(theta, phi):\n",
        "    return P_n(theta, phi)*np.sin(theta)"
      ],
      "execution_count": 0,
      "outputs": []
    },
    {
      "metadata": {
        "id": "fO4RDbGsjfuE",
        "colab_type": "code",
        "colab": {}
      },
      "cell_type": "code",
      "source": [
        "num_pts_theta = 500\n",
        "theta = np.linspace(-np.pi, np.pi, num_pts_theta)\n",
        "plt.figure(figsize = (5,5))\n",
        "ax = plt.subplot(111, projection='polar')\n",
        "ax.set_theta_offset(np.pi/2)\n",
        "ax.set_theta_direction(-1)\n",
        "ax.plot(theta, 10*np.log10(P_n(theta, np.pi/2)))\n",
        "ax.set_rmax(0)\n",
        "ax.set_rmin(-30)\n",
        "ax.set_title(r'YZ-plane Pattern (dB angular plot)', y=1.1)\n",
        "ax.set_xlabel(r'$\\theta$')"
      ],
      "execution_count": 0,
      "outputs": []
    }
  ]
}