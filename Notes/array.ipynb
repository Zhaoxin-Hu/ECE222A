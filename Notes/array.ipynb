{
 "cells": [
  {
   "cell_type": "markdown",
   "metadata": {},
   "source": [
    "# Electromagnetics"
   ]
  },
  {
   "cell_type": "markdown",
   "metadata": {},
   "source": [
    "Quantities/Names | Formulas\n",
    "---- | ----\n",
    "solution to wave equation for $\\vec{A}$ | $\\begin{aligned} \\vec{A} &= \\iiint_{V'}\\mu\\vec{J}\\frac{e^{-jkR}}{4\\pi R}dV \\\\ &= \\mu\\vec{J}(0)\\frac{e^{-jkr}}{4\\pi r}\\iiint_{V'}\\frac{\\vec{J}(r')}{\\vec{J}(0)}e^{jk \\hat{r}\\cdot\\vec{r'}}dV \\end{aligned}$\n",
    "solution to wave equation for $\\vec{F}$ | $\\begin{aligned} \\vec{F} &= \\iiint_{V'}\\epsilon\\vec{M}\\frac{e^{-jkR}}{4\\pi R}dV \\\\ &= \\epsilon\\vec{M}(0)\\frac{e^{-jkr}}{4\\pi r}\\iiint_{V'}\\frac{\\vec{M}(r')}{\\vec{M}(0)}e^{jk \\hat{r}\\cdot\\vec{r'}}dV \\end{aligned}$\n",
    "dot product ($\\hat{r}\\cdot\\vec{r'}$) | $\\begin{aligned} \\hat{r}\\cdot\\vec{r'} &= \\hat{r}\\cdot(\\vec{x}x'+\\vec{y}y'+\\vec{z}z') \\\\ &= x'\\sin\\theta\\cos\\phi+y'\\sin\\theta\\sin\\phi+z'\\cos\\theta \\end{aligned}$"
   ]
  },
  {
   "cell_type": "markdown",
   "metadata": {},
   "source": [
    "# Array"
   ]
  },
  {
   "cell_type": "markdown",
   "metadata": {},
   "source": [
    "Quantities/Names | Formulas\n",
    "---- | ----\n",
    "array factor ($AF$) | $\\begin{aligned} AF &= \\sum_i \\frac{I(i)}{I(0)} e^{jk \\hat{r}\\cdot\\vec{r'_i}}\\end{aligned}$\n",
    "array factor linspace ($d_x$) on x axis ($AF_x$) | $\\begin{aligned} AF_x &= \\sum_i \\frac{I(i)}{I(0)} e^{jkd_x\\sin\\theta\\cos\\phi}\\end{aligned}$"
   ]
  },
  {
   "cell_type": "markdown",
   "metadata": {},
   "source": [
    "This repo contains an introduction to [Jupyter](https://jupyter.org) and [IPython](https://ipython.org).\n",
    "\n",
    "Outline of some basics:\n",
    "\n",
    "* [Notebook Basics](../examples/Notebook/Notebook%20Basics.ipynb)\n",
    "* [IPython - beyond plain python](../examples/IPython%20Kernel/Beyond%20Plain%20Python.ipynb)\n",
    "* [Markdown Cells](../examples/Notebook/Working%20With%20Markdown%20Cells.ipynb)\n",
    "* [Rich Display System](../examples/IPython%20Kernel/Rich%20Output.ipynb)\n",
    "* [Custom Display logic](../examples/IPython%20Kernel/Custom%20Display%20Logic.ipynb)\n",
    "* [Running a Secure Public Notebook Server](../examples/Notebook/Running%20the%20Notebook%20Server.ipynb#Securing-the-notebook-server)\n",
    "* [How Jupyter works](../examples/Notebook/Multiple%20Languages%2C%20Frontends.ipynb) to run code in different languages."
   ]
  },
  {
   "cell_type": "markdown",
   "metadata": {},
   "source": [
    "You can also get this tutorial and run it on your laptop:\n",
    "\n",
    "    git clone https://github.com/ipython/ipython-in-depth\n",
    "\n",
    "Install IPython and Jupyter:\n",
    "\n",
    "with [conda](https://www.anaconda.com/download):\n",
    "\n",
    "    conda install ipython jupyter\n",
    "\n",
    "with pip:\n",
    "\n",
    "    # first, always upgrade pip!\n",
    "    pip install --upgrade pip\n",
    "    pip install --upgrade ipython jupyter\n",
    "\n",
    "Start the notebook in the tutorial directory:\n",
    "\n",
    "    cd ipython-in-depth\n",
    "    jupyter notebook"
   ]
  }
 ],
 "metadata": {
  "kernelspec": {
   "display_name": "Python 3",
   "language": "python",
   "name": "python3"
  },
  "language_info": {
   "codemirror_mode": {
    "name": "ipython",
    "version": 3
   },
   "file_extension": ".py",
   "mimetype": "text/x-python",
   "name": "python",
   "nbconvert_exporter": "python",
   "pygments_lexer": "ipython3",
   "version": "3.6.6"
  }
 },
 "nbformat": 4,
 "nbformat_minor": 2
}
