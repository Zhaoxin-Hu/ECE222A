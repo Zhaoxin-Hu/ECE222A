{
 "cells": [
  {
   "cell_type": "markdown",
   "metadata": {},
   "source": [
    "# Homework 3"
   ]
  },
  {
   "cell_type": "code",
   "execution_count": 2,
   "metadata": {},
   "outputs": [],
   "source": [
    "import matplotlib\n",
    "import numpy as np\n",
    "from matplotlib import cm\n",
    "import matplotlib.pyplot as plt\n",
    "import mpl_toolkits.mplot3d.axes3d as axes3d"
   ]
  },
  {
   "cell_type": "markdown",
   "metadata": {},
   "source": [
    "Define unnormalized and normalized pattern function <br/>\n",
    "- unnormalized: $P_{un}(\\theta,\\phi) = \\frac{\\sin^2\\frac{M}{2}(kd_x\\sin\\theta\\cos\\phi+\\alpha_x)}{\\sin^2\\frac{1}{2}(kd_x\\sin\\theta\\cos\\phi+\\alpha_x)} \\frac{\\sin^2\\frac{N}{2}(kd_x\\sin\\theta\\sin\\phi+\\alpha_y)}{\\sin^2\\frac{1}{2}(kd_x\\sin\\theta\\sin\\phi+\\alpha_y)}$ <br/>\n",
    "- normalized: $P_n(\\theta,\\phi) = \\frac{P_{un}}{P_{un,max}}$"
   ]
  },
  {
   "cell_type": "code",
   "execution_count": 34,
   "metadata": {},
   "outputs": [],
   "source": [
    "theta, phi = np.linspace(0, np.pi, 100)[1:-1], np.linspace(0, 2*np.pi, 40)\n",
    "theta2d, phi2d = np.meshgrid(theta, phi)\n",
    "M = 16\n",
    "N = 16\n",
    "kdx = np.pi\n",
    "kdy = 1.2*np.pi\n",
    "ax = 0\n",
    "ay = 0"
   ]
  },
  {
   "cell_type": "code",
   "execution_count": 39,
   "metadata": {},
   "outputs": [
    {
     "name": "stderr",
     "output_type": "stream",
     "text": [
      "/srv/conda/lib/python3.6/site-packages/ipykernel_launcher.py:4: RuntimeWarning: invalid value encountered in true_divide\n",
      "  after removing the cwd from sys.path.\n"
     ]
    }
   ],
   "source": [
    "def P_un(theta, phi):\n",
    "    psix = kdx*np.sin(theta)*np.cos(phi)+ax\n",
    "    psiy = kdy*np.sin(theta)*np.sin(phi)+ay\n",
    "    return (np.sin(M/2*psix)*np.sin(N/2*psiy)/np.sin(1/2*psix)/np.sin(1/2*psiy))**2\n",
    "Pat_un = np.nan_to_num(P_un(theta2d,phi2d))\n",
    "P_un_max = np.max(Pat_un)\n",
    "def P_n(theta, phi):\n",
    "    return P_un(theta, phi)/P_un_max\n",
    "def integrand(theta, phi):\n",
    "    return P_n(theta, phi)*np.sin(theta)"
   ]
  },
  {
   "cell_type": "code",
   "execution_count": 43,
   "metadata": {},
   "outputs": [
    {
     "name": "stdout",
     "output_type": "stream",
     "text": [
      "[[    0.             0.             0.         ...     0.\n",
      "      0.             0.        ]\n",
      " [52701.11980821 25739.11555077  5509.62902708 ...  5509.62902708\n",
      "  25739.11555077 52701.11980821]\n",
      " [52367.65166887 25328.12667986  5716.3512994  ...  5716.3512994\n",
      "  25328.12667986 52367.65166887]\n",
      " ...\n",
      " [52367.65166887 25328.12667986  5716.3512994  ...  5716.3512994\n",
      "  25328.12667986 52367.65166887]\n",
      " [52701.11980821 25739.11555077  5509.62902708 ...  5509.62902708\n",
      "  25739.11555077 52701.11980821]\n",
      " [52814.74805909 25864.08866654  5404.71300947 ...  5404.71300947\n",
      "  25864.08866654 52814.74805909]]\n"
     ]
    }
   ],
   "source": [
    "print(Pat_un)"
   ]
  },
  {
   "cell_type": "code",
   "execution_count": 45,
   "metadata": {},
   "outputs": [
    {
     "name": "stderr",
     "output_type": "stream",
     "text": [
      "/srv/conda/lib/python3.6/site-packages/ipykernel_launcher.py:4: RuntimeWarning: invalid value encountered in true_divide\n",
      "  after removing the cwd from sys.path.\n"
     ]
    },
    {
     "data": {
      "image/png": "[encoded data removed]",
      "text/plain": [
       "<Figure size 432x288 with 2 Axes>"
      ]
     },
     "metadata": {
      "needs_background": "light"
     },
     "output_type": "display_data"
    }
   ],
   "source": [
    "## Plot in 2D ##\n",
    "\n",
    "theta, phi = np.linspace(0, 2 * np.pi, 40), np.linspace(0, np.pi, 40)\n",
    "theta2d, phi2d = np.meshgrid(theta, phi)\n",
    "\n",
    "# Control plot dynamic range\n",
    "pltmax = 0\n",
    "pltmin = -30\n",
    "\n",
    "# Create the 2D colormap\n",
    "plt.figure()\n",
    "plt.pcolor(phi2d, theta2d, np.nan_to_num(P_n(theta2d, phi2d)), vmin=pltmin, vmax=pltmax, cmap=\"jet\")\n",
    "plt.xlabel(\"Phi [degrees]\")\n",
    "plt.ylabel(\"Theta [degrees]\")\n",
    "plt.colorbar(label=\"Pattern [dB]\")\n",
    "plt.show()"
   ]
  },
  {
   "cell_type": "code",
   "execution_count": null,
   "metadata": {},
   "outputs": [],
   "source": [
    "theta, phi = np.linspace(0, 2 * np.pi, 40), np.linspace(0, np.pi, 40)\n",
    "THETA, PHI = np.meshgrid(theta, phi)\n",
    "R = np.cos(PHI**2)\n",
    "X = R * np.sin(PHI) * np.cos(THETA)\n",
    "Y = R * np.sin(PHI) * np.sin(THETA)\n",
    "Z = R * np.cos(PHI)\n",
    "\n",
    "# fourth dimention - colormap\n",
    "# create colormap according to R-value\n",
    "color_dimension = R # change to desired fourth dimension\n",
    "minn, maxx = color_dimension.min(), color_dimension.max()\n",
    "norm = matplotlib.colors.Normalize(minn, maxx)\n",
    "m = plt.cm.ScalarMappable(norm=norm, cmap='jet')\n",
    "m.set_array([])\n",
    "fcolors = m.to_rgba(color_dimension)\n",
    "\n",
    "fig = plt.figure()\n",
    "ax = fig.gca(projection='3d')\n",
    "pattern = ax.plot_surface(\n",
    "    X, Y, Z, rstride=1, cstride=1, facecolors=fcolors, vmin=minn, vmax=maxx,\n",
    "    shade=False, alpha=0.5, linewidth=0, antialiased=False)\n",
    "fig.colorbar(pattern, shrink=0.5, aspect=5)\n",
    "plt.show()\n",
    "\n",
    "'''\n",
    "fig = plt.figure()\n",
    "ax = fig.add_subplot(1,1,1, projection='3d')\n",
    "plot = ax.plot_surface(\n",
    "    X, Y, Z, rstride=1, cstride=1, cmap=plt.get_cmap('jet'),\n",
    "    linewidth=0, antialiased=False, alpha=0.5)\n",
    "plt.show()\n",
    "'''\n",
    "\n",
    "'''\n",
    "fig = plt.figure()\n",
    "ax = fig.gca(projection='3d')\n",
    "ax.plot_surface(X,Y,Z, rstride=1, cstride=1, facecolors=fcolors, vmin=minn, vmax=maxx, shade=False)\n",
    "ax.set_xlabel('x')\n",
    "ax.set_ylabel('y')\n",
    "ax.set_zlabel('z')\n",
    "fig.canvas.show()\n",
    "'''"
   ]
  },
  {
   "cell_type": "code",
   "execution_count": null,
   "metadata": {},
   "outputs": [],
   "source": [
    "import matplotlib\n",
    "import matplotlib.pyplot as plt\n",
    "from mpl_toolkits.mplot3d import Axes3D\n",
    "import numpy as np\n",
    "\n",
    "# domains\n",
    "x = np.logspace(-1.,np.log10(5),50) # [0.1, 5]\n",
    "y = np.linspace(6,9,50)             # [6, 9]\n",
    "z = np.linspace(-1,1,50)            # [-1, 1]\n",
    "\n",
    "# convert to 2d matrices\n",
    "Z = np.outer(z.T, z)        # 50x50\n",
    "X, Y = np.meshgrid(x, y)    # 50x50\n",
    "\n",
    "# fourth dimention - colormap\n",
    "# create colormap according to x-value (can use any 50x50 array)\n",
    "color_dimension = X # change to desired fourth dimension\n",
    "minn, maxx = color_dimension.min(), color_dimension.max()\n",
    "norm = matplotlib.colors.Normalize(minn, maxx)\n",
    "m = plt.cm.ScalarMappable(norm=norm, cmap='jet')\n",
    "m.set_array([])\n",
    "fcolors = m.to_rgba(color_dimension)\n",
    "\n",
    "# plot\n",
    "fig = plt.figure()\n",
    "ax = fig.gca(projection='3d')\n",
    "ax.plot_surface(X,Y,Z, rstride=1, cstride=1, facecolors=fcolors, vmin=minn, vmax=maxx, shade=False)\n",
    "ax.set_xlabel('x')\n",
    "ax.set_ylabel('y')\n",
    "ax.set_zlabel('z')\n",
    "fig.canvas.show()"
   ]
  }
 ],
 "metadata": {
  "kernelspec": {
   "display_name": "Python 3",
   "language": "python",
   "name": "python3"
  },
  "language_info": {
   "codemirror_mode": {
    "name": "ipython",
    "version": 3
   },
   "file_extension": ".py",
   "mimetype": "text/x-python",
   "name": "python",
   "nbconvert_exporter": "python",
   "pygments_lexer": "ipython3",
   "version": "3.6.6"
  }
 },
 "nbformat": 4,
 "nbformat_minor": 2
}
