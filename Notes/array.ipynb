{
  "nbformat": 4,
  "nbformat_minor": 0,
  "metadata": {
    "colab": {
      "name": "array.ipynb",
      "version": "0.3.2",
      "provenance": [],
      "include_colab_link": true
    },
    "kernelspec": {
      "display_name": "Python 3",
      "language": "python",
      "name": "python3"
    }
  },
  "cells": [
    {
      "cell_type": "markdown",
      "metadata": {
        "id": "view-in-github",
        "colab_type": "text"
      },
      "source": [
        "<a href=\"https://colab.research.google.com/github/Zhaoxin-Hu/ECE222A/blob/master/Notes/array.ipynb\" target=\"_parent\"><img src=\"https://colab.research.google.com/assets/colab-badge.svg\" alt=\"Open In Colab\"/></a>"
      ]
    },
    {
      "metadata": {
        "id": "-SbBsM4eG4N2",
        "colab_type": "text"
      },
      "cell_type": "markdown",
      "source": [
        "# Electromagnetics"
      ]
    },
    {
      "metadata": {
        "id": "aRWFGNEoG4N5",
        "colab_type": "text"
      },
      "cell_type": "markdown",
      "source": [
        "Quantities/Names | Formulas\n",
        "---- | ----\n",
        "solution to wave equation for $\\vec{A}$ | $\\begin{aligned} \\vec{A} &= \\iiint_{V'}\\mu\\vec{J}\\frac{e^{-jkR}}{4\\pi R}dV \\\\ &= \\mu\\vec{J}(0)\\frac{e^{-jkr}}{4\\pi r}\\iiint_{V'}\\frac{\\vec{J}(r')}{\\vec{J}(0)}e^{jk \\hat{r}\\cdot\\vec{r'}}dV \\end{aligned}$\n",
        "solution to wave equation for $\\vec{F}$ | $\\begin{aligned} \\vec{F} &= \\iiint_{V'}\\epsilon\\vec{M}\\frac{e^{-jkR}}{4\\pi R}dV \\\\ &= \\epsilon\\vec{M}(0)\\frac{e^{-jkr}}{4\\pi r}\\iiint_{V'}\\frac{\\vec{M}(r')}{\\vec{M}(0)}e^{jk \\hat{r}\\cdot\\vec{r'}}dV \\end{aligned}$\n",
        "dot product ($\\hat{r}\\cdot\\vec{r'}$) | $\\begin{aligned} \\hat{r}\\cdot\\vec{r'} &= \\hat{r}\\cdot(\\vec{x}x'+\\vec{y}y'+\\vec{z}z') \\\\ &= x'\\sin\\theta\\cos\\phi+y'\\sin\\theta\\sin\\phi+z'\\cos\\theta \\end{aligned}$"
      ]
    },
    {
      "metadata": {
        "id": "Q2u-xLBoG4N7",
        "colab_type": "text"
      },
      "cell_type": "markdown",
      "source": [
        "# Array"
      ]
    },
    {
      "metadata": {
        "id": "yPkQik_BG4N7",
        "colab_type": "text"
      },
      "cell_type": "markdown",
      "source": [
        "Quantities/Names | Formulas\n",
        "---- | ----\n",
        "array factor ($AF$) | $\\begin{aligned} AF &= \\sum_i \\frac{I(i)}{I(0)} e^{jk \\hat{r}\\cdot\\vec{r'_i}}\\end{aligned}$\n",
        "array factor linspace ($d_x$) on x axis ($AF_x$) | $\\begin{aligned} AF_x &= \\sum_i \\frac{I(i)}{I(0)} e^{jkd_x\\sin\\theta\\cos\\phi}\\end{aligned}$"
      ]
    }
  ]
}