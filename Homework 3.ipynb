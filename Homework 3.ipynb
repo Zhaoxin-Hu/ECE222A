{
  "nbformat": 4,
  "nbformat_minor": 0,
  "metadata": {
    "colab": {
      "name": "Homework 3.ipynb",
      "version": "0.3.2",
      "provenance": [],
      "include_colab_link": true
    },
    "kernelspec": {
      "display_name": "Python 3",
      "language": "python",
      "name": "python3"
    }
  },
  "cells": [
    {
      "cell_type": "markdown",
      "metadata": {
        "id": "view-in-github",
        "colab_type": "text"
      },
      "source": [
        "<a href=\"https://colab.research.google.com/github/Zhaoxin-Hu/ECE222A/blob/master/Homework%203.ipynb\" target=\"_parent\"><img src=\"https://colab.research.google.com/assets/colab-badge.svg\" alt=\"Open In Colab\"/></a>"
      ]
    },
    {
      "metadata": {
        "id": "uyF-pFp6JdAF",
        "colab_type": "text"
      },
      "cell_type": "markdown",
      "source": [
        "# Homework 3"
      ]
    },
    {
      "metadata": {
        "id": "SJ-_uXYYJdAH",
        "colab_type": "code",
        "colab": {}
      },
      "cell_type": "code",
      "source": [
        "import matplotlib\n",
        "import numpy as np\n",
        "from matplotlib import cm\n",
        "import matplotlib.pyplot as plt\n",
        "import mpl_toolkits.mplot3d.axes3d as axes3d"
      ],
      "execution_count": 0,
      "outputs": []
    },
    {
      "metadata": {
        "id": "CKJuRgfwJdAJ",
        "colab_type": "text"
      },
      "cell_type": "markdown",
      "source": [
        "Define unnormalized and normalized pattern function <br/>\n",
        "- unnormalized: $P_{un}(\\theta,\\phi) = \\frac{\\sin^2\\frac{M}{2}(kd_x\\sin\\theta\\cos\\phi+\\alpha_x)}{\\sin^2\\frac{1}{2}(kd_x\\sin\\theta\\cos\\phi+\\alpha_x)} \\frac{\\sin^2\\frac{N}{2}(kd_x\\sin\\theta\\sin\\phi+\\alpha_y)}{\\sin^2\\frac{1}{2}(kd_x\\sin\\theta\\sin\\phi+\\alpha_y)}$ <br/>\n",
        "- normalized: $P_n(\\theta,\\phi) = \\frac{P_{un}}{P_{un,max}}$"
      ]
    },
    {
      "metadata": {
        "id": "8TCrvgY-JdAL",
        "colab_type": "code",
        "colab": {}
      },
      "cell_type": "code",
      "source": [
        "theta, phi = np.linspace(0, np.pi, 100)[1:-1], np.linspace(0, 2*np.pi, 40)\n",
        "theta2d, phi2d = np.meshgrid(theta, phi)\n",
        "M = 16\n",
        "N = 16\n",
        "kdx = np.pi\n",
        "kdy = 1.2*np.pi\n",
        "kdz = np.pi\n",
        "ax = 0\n",
        "ay = 0\n",
        "az = 0"
      ],
      "execution_count": 0,
      "outputs": []
    },
    {
      "metadata": {
        "id": "o-q72-qyK6bp",
        "colab_type": "code",
        "colab": {}
      },
      "cell_type": "code",
      "source": [
        "def P_un(theta, phi):\n",
        "    psi = kdz*np.cos(theta)+az\n",
        "    m = np.arange(M)\n",
        "    P = np.sum(np.exp(1j*m*psi))\n",
        "    return np.abs(P)\n"
      ],
      "execution_count": 0,
      "outputs": []
    },
    {
      "metadata": {
        "id": "q-W3fC5oTjMz",
        "colab_type": "code",
        "colab": {
          "base_uri": "https://localhost:8080/",
          "height": 654
        },
        "outputId": "24eb4c11-c0c9-496d-900e-65ca92f5ee8d"
      },
      "cell_type": "code",
      "source": [
        "plt.figure(figsize = (5,5))\n",
        "ax = plt.subplot(111, projection='polar')\n",
        "ax.set_theta_offset(np.pi/2)\n",
        "ax.plot(theta, 10*np.log10(P_un(theta, 0)))\n",
        "ax.set_rmax(0)\n",
        "ax.set_rmin(-30)\n",
        "ax.set_title(r'E-plane Pattern (dB angular plot)', y=1.2)\n",
        "ax.set_xlabel(r'$\\theta$')"
      ],
      "execution_count": 15,
      "outputs": [
        {
          "output_type": "error",
          "ename": "ValueError",
          "evalue": "ignored",
          "traceback": [
            "\u001b[0;31m---------------------------------------------------------------------------\u001b[0m",
            "\u001b[0;31mValueError\u001b[0m                                Traceback (most recent call last)",
            "\u001b[0;32m<ipython-input-15-e1e92ffd07c9>\u001b[0m in \u001b[0;36m<module>\u001b[0;34m()\u001b[0m\n\u001b[1;32m      2\u001b[0m \u001b[0max\u001b[0m \u001b[0;34m=\u001b[0m \u001b[0mplt\u001b[0m\u001b[0;34m.\u001b[0m\u001b[0msubplot\u001b[0m\u001b[0;34m(\u001b[0m\u001b[0;36m111\u001b[0m\u001b[0;34m,\u001b[0m \u001b[0mprojection\u001b[0m\u001b[0;34m=\u001b[0m\u001b[0;34m'polar'\u001b[0m\u001b[0;34m)\u001b[0m\u001b[0;34m\u001b[0m\u001b[0m\n\u001b[1;32m      3\u001b[0m \u001b[0max\u001b[0m\u001b[0;34m.\u001b[0m\u001b[0mset_theta_offset\u001b[0m\u001b[0;34m(\u001b[0m\u001b[0mnp\u001b[0m\u001b[0;34m.\u001b[0m\u001b[0mpi\u001b[0m\u001b[0;34m/\u001b[0m\u001b[0;36m2\u001b[0m\u001b[0;34m)\u001b[0m\u001b[0;34m\u001b[0m\u001b[0m\n\u001b[0;32m----> 4\u001b[0;31m \u001b[0max\u001b[0m\u001b[0;34m.\u001b[0m\u001b[0mplot\u001b[0m\u001b[0;34m(\u001b[0m\u001b[0mtheta\u001b[0m\u001b[0;34m,\u001b[0m \u001b[0;36m10\u001b[0m\u001b[0;34m*\u001b[0m\u001b[0mnp\u001b[0m\u001b[0;34m.\u001b[0m\u001b[0mlog10\u001b[0m\u001b[0;34m(\u001b[0m\u001b[0mP_un\u001b[0m\u001b[0;34m(\u001b[0m\u001b[0mtheta\u001b[0m\u001b[0;34m,\u001b[0m \u001b[0;36m0\u001b[0m\u001b[0;34m)\u001b[0m\u001b[0;34m)\u001b[0m\u001b[0;34m)\u001b[0m\u001b[0;34m\u001b[0m\u001b[0m\n\u001b[0m\u001b[1;32m      5\u001b[0m \u001b[0max\u001b[0m\u001b[0;34m.\u001b[0m\u001b[0mset_rmax\u001b[0m\u001b[0;34m(\u001b[0m\u001b[0;36m0\u001b[0m\u001b[0;34m)\u001b[0m\u001b[0;34m\u001b[0m\u001b[0m\n\u001b[1;32m      6\u001b[0m \u001b[0max\u001b[0m\u001b[0;34m.\u001b[0m\u001b[0mset_rmin\u001b[0m\u001b[0;34m(\u001b[0m\u001b[0;34m-\u001b[0m\u001b[0;36m30\u001b[0m\u001b[0;34m)\u001b[0m\u001b[0;34m\u001b[0m\u001b[0m\n",
            "\u001b[0;32m<ipython-input-14-fe0af2657186>\u001b[0m in \u001b[0;36mP_un\u001b[0;34m(theta, phi)\u001b[0m\n\u001b[1;32m      2\u001b[0m     \u001b[0mpsi\u001b[0m \u001b[0;34m=\u001b[0m \u001b[0mkdz\u001b[0m\u001b[0;34m*\u001b[0m\u001b[0mnp\u001b[0m\u001b[0;34m.\u001b[0m\u001b[0mcos\u001b[0m\u001b[0;34m(\u001b[0m\u001b[0mtheta\u001b[0m\u001b[0;34m)\u001b[0m\u001b[0;34m+\u001b[0m\u001b[0maz\u001b[0m\u001b[0;34m\u001b[0m\u001b[0m\n\u001b[1;32m      3\u001b[0m     \u001b[0mm\u001b[0m \u001b[0;34m=\u001b[0m \u001b[0mnp\u001b[0m\u001b[0;34m.\u001b[0m\u001b[0marange\u001b[0m\u001b[0;34m(\u001b[0m\u001b[0mM\u001b[0m\u001b[0;34m)\u001b[0m\u001b[0;34m\u001b[0m\u001b[0m\n\u001b[0;32m----> 4\u001b[0;31m     \u001b[0mP\u001b[0m \u001b[0;34m=\u001b[0m \u001b[0mnp\u001b[0m\u001b[0;34m.\u001b[0m\u001b[0msum\u001b[0m\u001b[0;34m(\u001b[0m\u001b[0mnp\u001b[0m\u001b[0;34m.\u001b[0m\u001b[0mexp\u001b[0m\u001b[0;34m(\u001b[0m\u001b[0;36m1j\u001b[0m\u001b[0;34m*\u001b[0m\u001b[0mm\u001b[0m\u001b[0;34m*\u001b[0m\u001b[0mpsi\u001b[0m\u001b[0;34m)\u001b[0m\u001b[0;34m)\u001b[0m\u001b[0;34m\u001b[0m\u001b[0m\n\u001b[0m\u001b[1;32m      5\u001b[0m     \u001b[0;32mreturn\u001b[0m \u001b[0mnp\u001b[0m\u001b[0;34m.\u001b[0m\u001b[0mabs\u001b[0m\u001b[0;34m(\u001b[0m\u001b[0mP\u001b[0m\u001b[0;34m)\u001b[0m\u001b[0;34m\u001b[0m\u001b[0m\n",
            "\u001b[0;31mValueError\u001b[0m: operands could not be broadcast together with shapes (16,) (98,) "
          ]
        },
        {
          "output_type": "display_data",
          "data": {
            "image/png": "[encoded data removed]",
            "text/plain": [
              "<matplotlib.figure.Figure at 0x7fc22f77e940>"
            ]
          },
          "metadata": {
            "tags": []
          }
        }
      ]
    },
    {
      "metadata": {
        "id": "TwWjYtWnSYIi",
        "colab_type": "code",
        "colab": {
          "base_uri": "https://localhost:8080/",
          "height": 34
        },
        "outputId": "9cd5b685-5d5d-4ca3-d670-9e55bd3d6460"
      },
      "cell_type": "code",
      "source": [
        "np.arange(M)"
      ],
      "execution_count": 9,
      "outputs": [
        {
          "output_type": "execute_result",
          "data": {
            "text/plain": [
              "array([ 0,  1,  2,  3,  4,  5,  6,  7,  8,  9, 10, 11, 12, 13, 14, 15])"
            ]
          },
          "metadata": {
            "tags": []
          },
          "execution_count": 9
        }
      ]
    },
    {
      "metadata": {
        "id": "pbKvRt-AJdAN",
        "colab_type": "code",
        "colab": {},
        "outputId": "144cac5d-5d6e-42c1-b898-cd84cf7129ff"
      },
      "cell_type": "code",
      "source": [
        "def P_un(theta, phi):\n",
        "    psix = kdx*np.sin(theta)*np.cos(phi)+ax\n",
        "    psiy = kdy*np.sin(theta)*np.sin(phi)+ay\n",
        "    return (np.sin(M/2*psix)*np.sin(N/2*psiy)/np.sin(1/2*psix)/np.sin(1/2*psiy))**2\n",
        "Pat_un = np.nan_to_num(P_un(theta2d,phi2d))\n",
        "P_un_max = np.max(Pat_un)\n",
        "def P_n(theta, phi):\n",
        "    return P_un(theta, phi)/P_un_max\n",
        "def integrand(theta, phi):\n",
        "    return P_n(theta, phi)*np.sin(theta)"
      ],
      "execution_count": 0,
      "outputs": [
        {
          "output_type": "stream",
          "text": [
            "/srv/conda/lib/python3.6/site-packages/ipykernel_launcher.py:4: RuntimeWarning: invalid value encountered in true_divide\n",
            "  after removing the cwd from sys.path.\n"
          ],
          "name": "stderr"
        }
      ]
    },
    {
      "metadata": {
        "id": "wIk6tid5JdAR",
        "colab_type": "code",
        "colab": {},
        "outputId": "944bcd7c-76ce-413a-9d4c-51dbf634994b"
      },
      "cell_type": "code",
      "source": [
        "print(Pat_un)"
      ],
      "execution_count": 0,
      "outputs": [
        {
          "output_type": "stream",
          "text": [
            "[[    0.             0.             0.         ...     0.\n",
            "      0.             0.        ]\n",
            " [52701.11980821 25739.11555077  5509.62902708 ...  5509.62902708\n",
            "  25739.11555077 52701.11980821]\n",
            " [52367.65166887 25328.12667986  5716.3512994  ...  5716.3512994\n",
            "  25328.12667986 52367.65166887]\n",
            " ...\n",
            " [52367.65166887 25328.12667986  5716.3512994  ...  5716.3512994\n",
            "  25328.12667986 52367.65166887]\n",
            " [52701.11980821 25739.11555077  5509.62902708 ...  5509.62902708\n",
            "  25739.11555077 52701.11980821]\n",
            " [52814.74805909 25864.08866654  5404.71300947 ...  5404.71300947\n",
            "  25864.08866654 52814.74805909]]\n"
          ],
          "name": "stdout"
        }
      ]
    },
    {
      "metadata": {
        "id": "EOxxKBfVJdAU",
        "colab_type": "code",
        "colab": {},
        "outputId": "a6f65360-d11b-4af2-a417-95e1f97a3e3c"
      },
      "cell_type": "code",
      "source": [
        "## Plot in 2D ##\n",
        "\n",
        "theta, phi = np.linspace(0, 2 * np.pi, 40), np.linspace(0, np.pi, 40)\n",
        "theta2d, phi2d = np.meshgrid(theta, phi)\n",
        "\n",
        "# Control plot dynamic range\n",
        "pltmax = 0\n",
        "pltmin = -30\n",
        "\n",
        "# Create the 2D colormap\n",
        "plt.figure()\n",
        "plt.pcolor(phi2d, theta2d, np.nan_to_num(P_n(theta2d, phi2d)), vmin=pltmin, vmax=pltmax, cmap=\"jet\")\n",
        "plt.xlabel(\"Phi [degrees]\")\n",
        "plt.ylabel(\"Theta [degrees]\")\n",
        "plt.colorbar(label=\"Pattern [dB]\")\n",
        "plt.show()"
      ],
      "execution_count": 0,
      "outputs": [
        {
          "output_type": "stream",
          "text": [
            "/srv/conda/lib/python3.6/site-packages/ipykernel_launcher.py:4: RuntimeWarning: invalid value encountered in true_divide\n",
            "  after removing the cwd from sys.path.\n"
          ],
          "name": "stderr"
        },
        {
          "output_type": "display_data",
          "data": {
            "image/png": "[encoded data removed]",
            "text/plain": [
              "<Figure size 432x288 with 2 Axes>"
            ]
          },
          "metadata": {
            "tags": [],
            "needs_background": "light"
          }
        }
      ]
    },
    {
      "metadata": {
        "id": "wYZkEWkxJdAX",
        "colab_type": "code",
        "colab": {}
      },
      "cell_type": "code",
      "source": [
        "theta, phi = np.linspace(0, 2 * np.pi, 40), np.linspace(0, np.pi, 40)\n",
        "THETA, PHI = np.meshgrid(theta, phi)\n",
        "R = np.cos(PHI**2)\n",
        "X = R * np.sin(PHI) * np.cos(THETA)\n",
        "Y = R * np.sin(PHI) * np.sin(THETA)\n",
        "Z = R * np.cos(PHI)\n",
        "\n",
        "# fourth dimention - colormap\n",
        "# create colormap according to R-value\n",
        "color_dimension = R # change to desired fourth dimension\n",
        "minn, maxx = color_dimension.min(), color_dimension.max()\n",
        "norm = matplotlib.colors.Normalize(minn, maxx)\n",
        "m = plt.cm.ScalarMappable(norm=norm, cmap='jet')\n",
        "m.set_array([])\n",
        "fcolors = m.to_rgba(color_dimension)\n",
        "\n",
        "fig = plt.figure()\n",
        "ax = fig.gca(projection='3d')\n",
        "pattern = ax.plot_surface(\n",
        "    X, Y, Z, rstride=1, cstride=1, facecolors=fcolors, vmin=minn, vmax=maxx,\n",
        "    shade=False, alpha=0.5, linewidth=0, antialiased=False)\n",
        "fig.colorbar(pattern, shrink=0.5, aspect=5)\n",
        "plt.show()\n",
        "\n",
        "'''\n",
        "fig = plt.figure()\n",
        "ax = fig.add_subplot(1,1,1, projection='3d')\n",
        "plot = ax.plot_surface(\n",
        "    X, Y, Z, rstride=1, cstride=1, cmap=plt.get_cmap('jet'),\n",
        "    linewidth=0, antialiased=False, alpha=0.5)\n",
        "plt.show()\n",
        "'''\n",
        "\n",
        "'''\n",
        "fig = plt.figure()\n",
        "ax = fig.gca(projection='3d')\n",
        "ax.plot_surface(X,Y,Z, rstride=1, cstride=1, facecolors=fcolors, vmin=minn, vmax=maxx, shade=False)\n",
        "ax.set_xlabel('x')\n",
        "ax.set_ylabel('y')\n",
        "ax.set_zlabel('z')\n",
        "fig.canvas.show()\n",
        "'''"
      ],
      "execution_count": 0,
      "outputs": []
    },
    {
      "metadata": {
        "id": "2StMRwu9JdAZ",
        "colab_type": "code",
        "colab": {}
      },
      "cell_type": "code",
      "source": [
        "import matplotlib\n",
        "import matplotlib.pyplot as plt\n",
        "from mpl_toolkits.mplot3d import Axes3D\n",
        "import numpy as np\n",
        "\n",
        "# domains\n",
        "x = np.logspace(-1.,np.log10(5),50) # [0.1, 5]\n",
        "y = np.linspace(6,9,50)             # [6, 9]\n",
        "z = np.linspace(-1,1,50)            # [-1, 1]\n",
        "\n",
        "# convert to 2d matrices\n",
        "Z = np.outer(z.T, z)        # 50x50\n",
        "X, Y = np.meshgrid(x, y)    # 50x50\n",
        "\n",
        "# fourth dimention - colormap\n",
        "# create colormap according to x-value (can use any 50x50 array)\n",
        "color_dimension = X # change to desired fourth dimension\n",
        "minn, maxx = color_dimension.min(), color_dimension.max()\n",
        "norm = matplotlib.colors.Normalize(minn, maxx)\n",
        "m = plt.cm.ScalarMappable(norm=norm, cmap='jet')\n",
        "m.set_array([])\n",
        "fcolors = m.to_rgba(color_dimension)\n",
        "\n",
        "# plot\n",
        "fig = plt.figure()\n",
        "ax = fig.gca(projection='3d')\n",
        "ax.plot_surface(X,Y,Z, rstride=1, cstride=1, facecolors=fcolors, vmin=minn, vmax=maxx, shade=False)\n",
        "ax.set_xlabel('x')\n",
        "ax.set_ylabel('y')\n",
        "ax.set_zlabel('z')\n",
        "fig.canvas.show()"
      ],
      "execution_count": 0,
      "outputs": []
    }
  ]
}