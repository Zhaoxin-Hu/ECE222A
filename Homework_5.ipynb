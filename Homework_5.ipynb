{
  "nbformat": 4,
  "nbformat_minor": 0,
  "metadata": {
    "colab": {
      "name": "Homework 5.ipynb",
      "version": "0.3.2",
      "provenance": [],
      "include_colab_link": true
    },
    "kernelspec": {
      "name": "python3",
      "display_name": "Python 3"
    }
  },
  "cells": [
    {
      "cell_type": "markdown",
      "metadata": {
        "id": "view-in-github",
        "colab_type": "text"
      },
      "source": [
        "<a href=\"https://colab.research.google.com/github/Zhaoxin-Hu/ECE222A/blob/master/Homework_5.ipynb\" target=\"_parent\"><img src=\"https://colab.research.google.com/assets/colab-badge.svg\" alt=\"Open In Colab\"/></a>"
      ]
    },
    {
      "metadata": {
        "id": "F9Ghxwg8sHbA",
        "colab_type": "code",
        "colab": {}
      },
      "cell_type": "code",
      "source": [
        "import matplotlib\n",
        "import matplotlib.colors\n",
        "import matplotlib.pyplot as plt\n",
        "\n",
        "import numpy as np\n",
        "np.set_printoptions(suppress=True)\n",
        "\n",
        "from mpl_toolkits import mplot3d\n",
        "import mpl_toolkits.mplot3d.axes3d as axes3d\n",
        "\n",
        "from scipy import special\n",
        "from scipy import integrate\n",
        "from scipy.signal import argrelextrema"
      ],
      "execution_count": 0,
      "outputs": []
    },
    {
      "metadata": {
        "id": "59hbtiSksVce",
        "colab_type": "text"
      },
      "cell_type": "markdown",
      "source": [
        "## Problem 2"
      ]
    },
    {
      "metadata": {
        "id": "c-e9XOUusa6O",
        "colab_type": "text"
      },
      "cell_type": "markdown",
      "source": [
        "Antenna Size ($2^n \\times 2^n$)"
      ]
    },
    {
      "metadata": {
        "id": "nISHsbq2sTgY",
        "colab_type": "code",
        "colab": {
          "base_uri": "https://localhost:8080/",
          "height": 51
        },
        "outputId": "de2e6bd0-55d4-4754-fbfa-db3a84fa1906"
      },
      "cell_type": "code",
      "source": [
        "# directivity\n",
        "n = np.array([1, 2, 3, 4, 5])\n",
        "Ap = (2**n)**2\n",
        "D = 4*np.pi*Ap\n",
        "D_dB = 10*np.log10(D)\n",
        "print('D (dB): ', D_dB)\n",
        "\n",
        "# efficiency (loss)\n",
        "freq = 3e9\n",
        "c = 3e8\n",
        "n = 1\n",
        "wvlen = c/freq*1e2 # in cm\n",
        "loss_per_cm = 0.1\n",
        "loss_factor = 0\n",
        "for i in range(n):\n",
        "    loss_factor = loss_factor + 2*2**(i-1)*wvlen*loss_per_cm\n",
        "print(loss_factor)"
      ],
      "execution_count": 35,
      "outputs": [
        {
          "output_type": "stream",
          "text": [
            "D (dB):  [17.01269855 23.03329847 29.05389838 35.07449829 41.09509821]\n",
            "1.0\n"
          ],
          "name": "stdout"
        }
      ]
    }
  ]
}